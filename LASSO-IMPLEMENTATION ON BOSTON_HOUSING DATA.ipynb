{
 "cells": [
  {
   "cell_type": "markdown",
   "metadata": {},
   "source": [
    "==>Impliment either sklearn.linear_model.Ridge or sklearn.linear_model.Lasso. \n",
    "\n",
    "---IMPLEMENTATION OF LASSO \n"
   ]
  },
  {
   "cell_type": "code",
   "execution_count": 30,
   "metadata": {
    "collapsed": true
   },
   "outputs": [],
   "source": [
    "from sklearn import datasets\n",
    "import pandas as pd\n",
    "from sklearn.preprocessing import StandardScaler\n",
    "from sklearn.cross_validation import train_test_split\n",
    "from sklearn.metrics import mean_squared_error\n",
    "from sklearn.metrics import r2_score\n",
    "from sklearn.linear_model import LinearRegression\n",
    "from sklearn.linear_model import Lasso\n",
    "from sklearn.linear_model import Ridge\n",
    "import math"
   ]
  },
  {
   "cell_type": "code",
   "execution_count": 31,
   "metadata": {
    "collapsed": true
   },
   "outputs": [],
   "source": [
    "bean = datasets.load_boston()\n",
    "  \n"
   ]
  },
  {
   "cell_type": "code",
   "execution_count": 32,
   "metadata": {
    "collapsed": true
   },
   "outputs": [],
   "source": [
    "X=bean.data\n",
    "y=bean.target"
   ]
  },
  {
   "cell_type": "code",
   "execution_count": 33,
   "metadata": {
    "collapsed": true
   },
   "outputs": [],
   "source": [
    "n_samples, n_features = bean.data.shape"
   ]
  },
  {
   "cell_type": "code",
   "execution_count": 34,
   "metadata": {
    "collapsed": false
   },
   "outputs": [
    {
     "data": {
      "text/plain": [
       "506L"
      ]
     },
     "execution_count": 34,
     "metadata": {},
     "output_type": "execute_result"
    }
   ],
   "source": [
    "n_samples"
   ]
  },
  {
   "cell_type": "code",
   "execution_count": 35,
   "metadata": {
    "collapsed": false
   },
   "outputs": [
    {
     "data": {
      "text/plain": [
       "13L"
      ]
     },
     "execution_count": 35,
     "metadata": {},
     "output_type": "execute_result"
    }
   ],
   "source": [
    "n_features"
   ]
  },
  {
   "cell_type": "code",
   "execution_count": 36,
   "metadata": {
    "collapsed": false
   },
   "outputs": [
    {
     "data": {
      "text/plain": [
       "array([  6.32000000e-03,   1.80000000e+01,   2.31000000e+00,\n",
       "         0.00000000e+00,   5.38000000e-01,   6.57500000e+00,\n",
       "         6.52000000e+01,   4.09000000e+00,   1.00000000e+00,\n",
       "         2.96000000e+02,   1.53000000e+01,   3.96900000e+02,\n",
       "         4.98000000e+00])"
      ]
     },
     "execution_count": 36,
     "metadata": {},
     "output_type": "execute_result"
    }
   ],
   "source": [
    "bean.data[0]"
   ]
  },
  {
   "cell_type": "code",
   "execution_count": 37,
   "metadata": {
    "collapsed": true
   },
   "outputs": [],
   "source": [
    "def load_boston():\n",
    "    scaler = StandardScaler()\n",
    "    boston = datasets.load_boston()\n",
    "    X=boston.data\n",
    "    y=boston.target\n",
    "    X = scaler.fit_transform(X)\n",
    "    return train_test_split(X,y)"
   ]
  },
  {
   "cell_type": "code",
   "execution_count": 38,
   "metadata": {
    "collapsed": false
   },
   "outputs": [
    {
     "data": {
      "text/plain": [
       "Lasso(alpha=0.3, copy_X=True, fit_intercept=True, max_iter=1000,\n",
       "   normalize=False, positive=False, precompute=False, random_state=None,\n",
       "   selection='cyclic', tol=0.0001, warm_start=False)"
      ]
     },
     "execution_count": 38,
     "metadata": {},
     "output_type": "execute_result"
    }
   ],
   "source": [
    "lasso = Lasso(alpha=0.3)\n",
    "lasso.fit(X_train, y_train)"
   ]
  },
  {
   "cell_type": "markdown",
   "metadata": {},
   "source": [
    "By Changing Regulation parameter Alpha we can make the some of the coefficients of weak features to zero,such that we can minimize the Error Function"
   ]
  },
  {
   "cell_type": "code",
   "execution_count": 39,
   "metadata": {
    "collapsed": false
   },
   "outputs": [
    {
     "name": "stdout",
     "output_type": "stream",
     "text": [
      "('Coefficients: \\n', array([-0.17896607,  0.20318164, -0.        ,  0.50871223, -0.73770727,\n",
      "        2.84580993, -0.        , -1.46594493,  0.        , -0.        ,\n",
      "       -1.70506083,  0.63002617, -3.95916162]))\n"
     ]
    }
   ],
   "source": [
    "print('Coefficients: \\n', lasso.coef_)"
   ]
  },
  {
   "cell_type": "code",
   "execution_count": 40,
   "metadata": {
    "collapsed": false
   },
   "outputs": [
    {
     "name": "stdout",
     "output_type": "stream",
     "text": [
      "('Intercepts: \\n', 22.84892686217821)\n"
     ]
    }
   ],
   "source": [
    "print('Intercepts: \\n',  lasso.intercept_)"
   ]
  },
  {
   "cell_type": "code",
   "execution_count": 41,
   "metadata": {
    "collapsed": false
   },
   "outputs": [
    {
     "data": {
      "text/plain": [
       "[(20.300000000000001, 21.232099925433193),\n",
       " (21.600000000000001, 25.711990064526148),\n",
       " (14.300000000000001, 18.078896835851246),\n",
       " (21.399999999999999, 21.050690650621007),\n",
       " (19.600000000000001, 21.777170575014871),\n",
       " (23.399999999999999, 24.265713205977939),\n",
       " (28.100000000000001, 25.267182798224919),\n",
       " (15.6, 15.697825146485437),\n",
       " (15.0, 25.898808597832236),\n",
       " (16.0, 18.32484111030757),\n",
       " (22.800000000000001, 25.264960315306784),\n",
       " (33.399999999999999, 32.340338982254622),\n",
       " (7.0, -1.5480088388001789),\n",
       " (8.0999999999999996, 7.8688747029925565),\n",
       " (35.200000000000003, 34.234243715429557),\n",
       " (24.800000000000001, 30.61980007786304),\n",
       " (14.6, 10.575860447548706),\n",
       " (37.600000000000001, 36.85092366369652),\n",
       " (17.800000000000001, 23.423658726700939),\n",
       " (20.600000000000001, 19.409145813405111),\n",
       " (13.300000000000001, 19.640708843440514),\n",
       " (16.600000000000001, 18.284436547964088),\n",
       " (19.600000000000001, 18.915960371779409),\n",
       " (22.600000000000001, 26.797894709635084),\n",
       " (21.199999999999999, 23.533161652645433),\n",
       " (33.799999999999997, 33.407466976134515),\n",
       " (24.800000000000001, 26.090199053172267),\n",
       " (19.300000000000001, 21.435597648193337),\n",
       " (15.1, 17.011622390500676),\n",
       " (32.0, 32.019044769891352),\n",
       " (24.399999999999999, 27.260649230185912),\n",
       " (7.2000000000000002, 17.940046409281738),\n",
       " (5.0, 12.690493617232795),\n",
       " (20.199999999999999, 23.366861579229145),\n",
       " (17.5, 18.885228518755614),\n",
       " (19.800000000000001, 23.173335147603293),\n",
       " (10.800000000000001, 12.457822644094259),\n",
       " (10.199999999999999, 16.816996661417967),\n",
       " (34.899999999999999, 30.507484810827901),\n",
       " (28.699999999999999, 26.507697583930536),\n",
       " (22.800000000000001, 26.349111677883194),\n",
       " (21.199999999999999, 22.398927170853064),\n",
       " (22.899999999999999, 23.6123952790592),\n",
       " (21.800000000000001, 21.180165326679294),\n",
       " (29.800000000000001, 25.210298243485791),\n",
       " (21.699999999999999, 22.325739118740078),\n",
       " (15.199999999999999, 16.313157496273849),\n",
       " (23.0, 28.448969243755059),\n",
       " (20.899999999999999, 22.288356251496101),\n",
       " (20.300000000000001, 20.113223028038497),\n",
       " (19.800000000000001, 19.043837856810505),\n",
       " (14.9, 18.343412447718283),\n",
       " (20.699999999999999, 23.31189591811647),\n",
       " (24.5, 27.47860119226975),\n",
       " (32.5, 29.562728680554098),\n",
       " (21.199999999999999, 21.919620583277673),\n",
       " (13.1, 17.122399567196442),\n",
       " (14.1, 18.010561987584047),\n",
       " (35.100000000000001, 32.904963553287395),\n",
       " (16.399999999999999, 19.933001259178312),\n",
       " (29.399999999999999, 30.254725028600109),\n",
       " (10.199999999999999, 16.327574293362851),\n",
       " (9.5, 13.597724354711616),\n",
       " (15.0, 18.461816137430304),\n",
       " (23.800000000000001, 23.983271216019723),\n",
       " (13.5, 14.606732093709304),\n",
       " (15.4, 17.452277883796924),\n",
       " (22.600000000000001, 27.024932494583158),\n",
       " (28.600000000000001, 29.275354265123614),\n",
       " (24.100000000000001, 24.693116931461201),\n",
       " (32.899999999999999, 31.130468043862095),\n",
       " (32.399999999999999, 33.462450905614787),\n",
       " (8.4000000000000004, 5.9577094528424048),\n",
       " (27.5, 30.332245767056868),\n",
       " (19.399999999999999, 24.664962318203798),\n",
       " (18.199999999999999, 19.508310030537871),\n",
       " (30.100000000000001, 26.248378873015451),\n",
       " (20.899999999999999, 22.757410811992756),\n",
       " (18.199999999999999, 21.03305356296374),\n",
       " (24.800000000000001, 25.816206724950067),\n",
       " (42.299999999999997, 36.468166242102591),\n",
       " (22.800000000000001, 29.321366016166792),\n",
       " (22.199999999999999, 23.931901525718594),\n",
       " (50.0, 35.112190740642632),\n",
       " (16.199999999999999, 16.802057227531094),\n",
       " (38.700000000000003, 36.148531627722313),\n",
       " (17.800000000000001, 18.064604376816206),\n",
       " (21.399999999999999, 24.429178069525445),\n",
       " (20.100000000000001, 20.883731294597716),\n",
       " (22.0, 20.670662004062301),\n",
       " (18.699999999999999, 21.150772981028947),\n",
       " (13.800000000000001, 14.934748388261037),\n",
       " (20.800000000000001, 18.83367243156729),\n",
       " (11.9, 23.355865274740882),\n",
       " (22.399999999999999, 21.516495687954563),\n",
       " (18.5, 19.932585594825944),\n",
       " (20.399999999999999, 20.92060053190999),\n",
       " (33.200000000000003, 32.403315108583357),\n",
       " (44.799999999999997, 37.415876539465415),\n",
       " (19.899999999999999, 19.872833566658286),\n",
       " (8.4000000000000004, 15.878060783475679),\n",
       " (21.399999999999999, 20.744364320087275),\n",
       " (22.699999999999999, 22.862092029570302),\n",
       " (23.300000000000001, 22.650351613693594),\n",
       " (14.800000000000001, 16.429106332725908),\n",
       " (28.199999999999999, 29.379407852686985),\n",
       " (17.199999999999999, 11.891504723304333),\n",
       " (19.699999999999999, 21.327792179789089),\n",
       " (14.1, 18.519712019317176),\n",
       " (50.0, 42.311425899648597),\n",
       " (23.699999999999999, 26.524105986236062),\n",
       " (23.300000000000001, 28.902709474982156),\n",
       " (21.199999999999999, 22.558328756822629),\n",
       " (17.399999999999999, 18.722025043275949),\n",
       " (24.300000000000001, 29.266195224890811),\n",
       " (19.5, 17.19712913844835),\n",
       " (23.899999999999999, 26.814996687887845),\n",
       " (23.800000000000001, 25.531351026022378),\n",
       " (20.0, 23.535589818157892),\n",
       " (12.1, 18.100768891108789),\n",
       " (15.6, 18.99899375743021),\n",
       " (24.600000000000001, 26.095306319643328),\n",
       " (14.5, 14.895405563775896),\n",
       " (23.199999999999999, 25.190510393806374),\n",
       " (23.199999999999999, 21.625250772176908),\n",
       " (24.0, 24.232340272197941),\n",
       " (14.5, 19.555199396440997)]"
      ]
     },
     "execution_count": 41,
     "metadata": {},
     "output_type": "execute_result"
    }
   ],
   "source": [
    "\n",
    "\n",
    "zip (y_test, lasso.predict(X_test))"
   ]
  },
  {
   "cell_type": "markdown",
   "metadata": {},
   "source": [
    "==>Mean Squared Error:"
   ]
  },
  {
   "cell_type": "code",
   "execution_count": 42,
   "metadata": {
    "collapsed": false
   },
   "outputs": [
    {
     "data": {
      "text/plain": [
       "14.810270150746474"
      ]
     },
     "execution_count": 42,
     "metadata": {},
     "output_type": "execute_result"
    }
   ],
   "source": [
    "y_pred=lasso.predict(X_test)\n",
    "mean_squared_error(y_test, y_pred)"
   ]
  },
  {
   "cell_type": "markdown",
   "metadata": {},
   "source": [
    "RMSE:"
   ]
  },
  {
   "cell_type": "code",
   "execution_count": 43,
   "metadata": {
    "collapsed": false
   },
   "outputs": [
    {
     "data": {
      "text/plain": [
       "3.8484113801342072"
      ]
     },
     "execution_count": 43,
     "metadata": {},
     "output_type": "execute_result"
    }
   ],
   "source": [
    "math.sqrt(mean_squared_error(y_test, y_pred))"
   ]
  },
  {
   "cell_type": "code",
   "execution_count": null,
   "metadata": {
    "collapsed": true
   },
   "outputs": [],
   "source": [
    "R2_Score(Coefficient of Determination)"
   ]
  },
  {
   "cell_type": "code",
   "execution_count": 46,
   "metadata": {
    "collapsed": false
   },
   "outputs": [
    {
     "data": {
      "text/plain": [
       "0.77296087488080856"
      ]
     },
     "execution_count": 46,
     "metadata": {},
     "output_type": "execute_result"
    }
   ],
   "source": [
    "r2_score(y_test, y_pred) "
   ]
  },
  {
   "cell_type": "code",
   "execution_count": null,
   "metadata": {
    "collapsed": true
   },
   "outputs": [],
   "source": []
  },
  {
   "cell_type": "code",
   "execution_count": null,
   "metadata": {
    "collapsed": true
   },
   "outputs": [],
   "source": []
  }
 ],
 "metadata": {
  "kernelspec": {
   "display_name": "Python 2",
   "language": "python",
   "name": "python2"
  },
  "language_info": {
   "codemirror_mode": {
    "name": "ipython",
    "version": 2
   },
   "file_extension": ".py",
   "mimetype": "text/x-python",
   "name": "python",
   "nbconvert_exporter": "python",
   "pygments_lexer": "ipython2",
   "version": "2.7.11"
  }
 },
 "nbformat": 4,
 "nbformat_minor": 0
}
